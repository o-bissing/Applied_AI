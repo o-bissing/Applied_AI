{
  "cells": [
    {
      "cell_type": "markdown",
      "metadata": {
        "id": "view-in-github",
        "colab_type": "text"
      },
      "source": [
        "<a href=\"https://colab.research.google.com/github/o-bissing/Applied_AI/blob/main/Pretrained_models_w.ipynb\" target=\"_parent\"><img src=\"https://colab.research.google.com/assets/colab-badge.svg\" alt=\"Open In Colab\"/></a>"
      ]
    },
    {
      "cell_type": "code",
      "source": [
        "img_path = 'zeppelin.jpg'"
      ],
      "metadata": {
        "id": "UrXtEuhKQSpi"
      },
      "id": "UrXtEuhKQSpi",
      "execution_count": 55,
      "outputs": []
    },
    {
      "cell_type": "code",
      "execution_count": 56,
      "id": "3718c39e",
      "metadata": {
        "colab": {
          "base_uri": "https://localhost:8080/"
        },
        "id": "3718c39e",
        "outputId": "acc54a71-c3a6-478e-a155-fd567f8889dc"
      },
      "outputs": [
        {
          "output_type": "stream",
          "name": "stdout",
          "text": [
            "1/1 [==============================] - 1s 1s/step\n",
            "airship: 0.8784939646720886\n",
            "balloon: 0.06821797043085098\n",
            "airliner: 0.015464287251234055\n"
          ]
        }
      ],
      "source": [
        "import numpy as np\n",
        "from keras.applications.vgg19 import VGG19, preprocess_input, decode_predictions\n",
        "# from keras.preprocessing import image\n",
        "import keras.utils as image\n",
        "\n",
        "# Load the pre-trained VGG19 model\n",
        "model = VGG19(weights='imagenet')\n",
        "\n",
        "# Load and preprocess the input image\n",
        "#img_path = 'I2.jpg'  # Replace with the path to your image\n",
        "img = image.load_img(img_path, target_size=(224, 224))\n",
        "x = image.img_to_array(img)\n",
        "x = np.expand_dims(x, axis=0)\n",
        "x = preprocess_input(x)\n",
        "\n",
        "# Make predictions on the image\n",
        "predictions = model.predict(x)\n",
        "decoded_predictions = decode_predictions(predictions, top=3)[0]\n",
        "\n",
        "# Print the top 3 predictions\n",
        "for _, class_name, prob in decoded_predictions:\n",
        "    print(f'{class_name}: {prob}')\n"
      ]
    },
    {
      "cell_type": "code",
      "execution_count": 57,
      "id": "9c5abbce",
      "metadata": {
        "colab": {
          "base_uri": "https://localhost:8080/"
        },
        "id": "9c5abbce",
        "outputId": "fdc01c0d-549b-4ecd-f22e-17838342d2a3"
      },
      "outputs": [
        {
          "output_type": "stream",
          "name": "stdout",
          "text": [
            "1/1 [==============================] - 2s 2s/step\n",
            "airship: 0.8733450174331665\n",
            "water_tower: 0.013762574642896652\n",
            "balloon: 0.004719644319266081\n"
          ]
        }
      ],
      "source": [
        "import numpy as np\n",
        "from tensorflow.keras.applications.efficientnet import EfficientNetB0, preprocess_input, decode_predictions\n",
        "from tensorflow.keras.preprocessing import image\n",
        "\n",
        "# Load the pre-trained EfficientNetB0 model\n",
        "model = EfficientNetB0(weights='imagenet')\n",
        "\n",
        "# Load and preprocess the input image\n",
        "#img_path = 'I2.jpg'  # Replace with the path to your image\n",
        "img = image.load_img(img_path, target_size=(224, 224))\n",
        "x = image.img_to_array(img)\n",
        "x = np.expand_dims(x, axis=0)\n",
        "x = preprocess_input(x)\n",
        "\n",
        "# Make predictions on the image\n",
        "predictions = model.predict(x)\n",
        "decoded_predictions = decode_predictions(predictions, top=3)[0]\n",
        "\n",
        "# Print the top 3 predictions\n",
        "for _, class_name, prob in decoded_predictions:\n",
        "    print(f'{class_name}: {prob}')\n"
      ]
    },
    {
      "cell_type": "code",
      "execution_count": 58,
      "id": "f1ae74fc",
      "metadata": {
        "colab": {
          "base_uri": "https://localhost:8080/"
        },
        "id": "f1ae74fc",
        "outputId": "00c808e8-1a58-4988-f443-a27323cc4bbd"
      },
      "outputs": [
        {
          "output_type": "stream",
          "name": "stdout",
          "text": [
            "1/1 [==============================] - 1s 549ms/step\n",
            "airship: 0.9945300221443176\n",
            "balloon: 0.003453270299360156\n",
            "water_tower: 0.0014101305278018117\n"
          ]
        }
      ],
      "source": [
        "import numpy as np\n",
        "from tensorflow.keras.applications.mobilenet import MobileNet, preprocess_input, decode_predictions\n",
        "from tensorflow.keras.preprocessing import image\n",
        "\n",
        "# Load the pre-trained MobileNet model\n",
        "model = MobileNet(weights='imagenet')\n",
        "\n",
        "# Load and preprocess the input image\n",
        "#img_path = 'I2.jpg'  # Replace with the path to your image\n",
        "img = image.load_img(img_path, target_size=(224, 224))\n",
        "x = image.img_to_array(img)\n",
        "x = np.expand_dims(x, axis=0)\n",
        "x = preprocess_input(x)\n",
        "\n",
        "# Make predictions on the image\n",
        "predictions = model.predict(x)\n",
        "decoded_predictions = decode_predictions(predictions, top=3)[0]\n",
        "\n",
        "# Print the top 3 predictions\n",
        "for _, class_name, prob in decoded_predictions:\n",
        "    print(f'{class_name}: {prob}')"
      ]
    },
    {
      "cell_type": "code",
      "execution_count": 59,
      "id": "0cf0e85d",
      "metadata": {
        "colab": {
          "base_uri": "https://localhost:8080/"
        },
        "id": "0cf0e85d",
        "outputId": "e99c2c08-77ec-4e2e-d94a-61af40a5ca35"
      },
      "outputs": [
        {
          "output_type": "stream",
          "name": "stdout",
          "text": [
            "1/1 [==============================] - 3s 3s/step\n",
            "airship: 0.9571380615234375\n",
            "water_tower: 0.012752575799822807\n",
            "balloon: 0.011532017029821873\n"
          ]
        }
      ],
      "source": [
        "import numpy as np\n",
        "from tensorflow.keras.applications.densenet import DenseNet121, preprocess_input, decode_predictions\n",
        "from tensorflow.keras.preprocessing import image\n",
        "\n",
        "# Load the pre-trained DenseNet121 model\n",
        "model = DenseNet121(weights='imagenet')\n",
        "\n",
        "# Load and preprocess the input image\n",
        "#img_path = 'I2.jpg'  # Replace with the path to your image\n",
        "img = image.load_img(img_path, target_size=(224, 224))\n",
        "x = image.img_to_array(img)\n",
        "x = np.expand_dims(x, axis=0)\n",
        "x = preprocess_input(x)\n",
        "\n",
        "# Make predictions on the image\n",
        "predictions = model.predict(x)\n",
        "decoded_predictions = decode_predictions(predictions, top=3)[0]\n",
        "\n",
        "# Print the top 3 predictions\n",
        "for _, class_name, prob in decoded_predictions:\n",
        "    print(f'{class_name}: {prob}')"
      ]
    },
    {
      "cell_type": "code",
      "execution_count": 60,
      "id": "30be5b63",
      "metadata": {
        "colab": {
          "base_uri": "https://localhost:8080/"
        },
        "id": "30be5b63",
        "outputId": "aa257fc2-a496-4b9b-c319-325969c62cdb"
      },
      "outputs": [
        {
          "output_type": "stream",
          "name": "stdout",
          "text": [
            "1/1 [==============================] - 1s 1s/step\n",
            "airship: 0.9958422780036926\n",
            "water_tower: 0.0016692375065758824\n",
            "airliner: 0.0011737945023924112\n"
          ]
        }
      ],
      "source": [
        "import numpy as np\n",
        "from tensorflow.keras.applications.resnet import ResNet50, preprocess_input, decode_predictions\n",
        "from tensorflow.keras.preprocessing import image\n",
        "\n",
        "# Load the pre-trained ResNet50 model\n",
        "model = ResNet50(weights='imagenet')\n",
        "\n",
        "# Load and preprocess the input image\n",
        "#img_path = 'I2.jpg'  # Replace with the path to your image\n",
        "img = image.load_img(img_path, target_size=(224, 224))\n",
        "x = image.img_to_array(img)\n",
        "x = np.expand_dims(x, axis=0)\n",
        "x = preprocess_input(x)\n",
        "\n",
        "# Make predictions on the image\n",
        "predictions = model.predict(x)\n",
        "decoded_predictions = decode_predictions(predictions, top=3)[0]\n",
        "\n",
        "# Print the top 3 predictions\n",
        "for _, class_name, prob in decoded_predictions:\n",
        "    print(f'{class_name}: {prob}')"
      ]
    }
  ],
  "metadata": {
    "kernelspec": {
      "display_name": "Python 3 (ipykernel)",
      "language": "python",
      "name": "python3"
    },
    "language_info": {
      "codemirror_mode": {
        "name": "ipython",
        "version": 3
      },
      "file_extension": ".py",
      "mimetype": "text/x-python",
      "name": "python",
      "nbconvert_exporter": "python",
      "pygments_lexer": "ipython3",
      "version": "3.8.12"
    },
    "colab": {
      "provenance": [],
      "include_colab_link": true
    }
  },
  "nbformat": 4,
  "nbformat_minor": 5
}