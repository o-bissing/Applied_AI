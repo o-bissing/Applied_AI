{
 "cells": [
  {
   "cell_type": "code",
   "execution_count": 2,
   "id": "4ced17e6",
   "metadata": {
    "ExecuteTime": {
     "end_time": "2023-11-02T18:27:37.585493800Z",
     "start_time": "2023-11-02T18:27:37.528117500Z"
    }
   },
   "outputs": [
    {
     "name": "stdout",
     "output_type": "stream",
     "text": [
      "['ph', 'Hardness', 'Solids', 'Chloramines', 'Sulfate', 'Conductivity', 'Organic_carbon', 'Trihalomethanes', 'Turbidity', 'Potability']\n",
      "            ph    Hardness       Solids  Chloramines     Sulfate  \\\n",
      "0          NaN  204.890456  20791.31898     7.300212  368.516441   \n",
      "1     3.716080  129.422921  18630.05786     6.635246         NaN   \n",
      "2     8.099124  224.236259  19909.54173     9.275884         NaN   \n",
      "3     8.316766  214.373394  22018.41744     8.059332  356.886136   \n",
      "4     9.092223  181.101509  17978.98634     6.546600  310.135738   \n",
      "...        ...         ...          ...          ...         ...   \n",
      "3275  4.668102  193.681736  47580.99160     7.166639  359.948574   \n",
      "3276  7.808856  193.553212  17329.80216     8.061362         NaN   \n",
      "3277  9.419510  175.762646  33155.57822     7.350233         NaN   \n",
      "3278  5.126763  230.603758  11983.86938     6.303357         NaN   \n",
      "3279  7.874671  195.102299  17404.17706     7.509306         NaN   \n",
      "\n",
      "      Conductivity  Organic_carbon  Trihalomethanes  Turbidity  Potability  \n",
      "0       564.308654       10.379783        86.990970   2.963135           0  \n",
      "1       592.885359       15.180013        56.329076   4.500656           0  \n",
      "2       418.606213       16.868637        66.420093   3.055934           0  \n",
      "3       363.266516       18.436525       100.341674   4.628771           0  \n",
      "4       398.410813       11.558279        31.997993   4.075075           0  \n",
      "...            ...             ...              ...        ...         ...  \n",
      "3275    526.424171       13.894419        66.687695   4.435821           1  \n",
      "3276    392.449580       19.903225              NaN   2.798243           1  \n",
      "3277    432.044783       11.039070        69.845400   3.298875           1  \n",
      "3278    402.883113       11.168946        77.488213   4.708658           1  \n",
      "3279    327.459761       16.140368        78.698446   2.309149           1  \n",
      "\n",
      "[3280 rows x 10 columns]\n"
     ]
    }
   ],
   "source": [
    "import sys\n",
    "import pandas as pd\n",
    "import numpy as np\n",
    "from matplotlib import pyplot as plt\n",
    "\n",
    "# csvFile = pd.read_csv('Datasets/Dataset1.csv')\n",
    "csvFile = pd.read_csv('water_potability_Anomaly_Missing_Duplicates.csv')\n",
    "\n",
    "colNames = list(csvFile.columns)\n",
    "\n",
    "print(colNames)\n",
    "\n",
    "print(csvFile)"
   ]
  },
  {
   "cell_type": "code",
   "execution_count": 3,
   "id": "59fea8df",
   "metadata": {
    "ExecuteTime": {
     "end_time": "2023-11-02T18:28:34.217326700Z",
     "start_time": "2023-11-02T18:28:34.195349200Z"
    }
   },
   "outputs": [
    {
     "name": "stdout",
     "output_type": "stream",
     "text": [
      "32800\n",
      "20150\n"
     ]
    }
   ],
   "source": [
    "# Removing missing values\n",
    "df = csvFile.copy()\n",
    "df.dropna(inplace = True)\n",
    "print(csvFile.size)\n",
    "print(df.size)"
   ]
  },
  {
   "cell_type": "code",
   "execution_count": 4,
   "id": "1758f523",
   "metadata": {
    "ExecuteTime": {
     "end_time": "2023-11-02T18:28:39.715288300Z",
     "start_time": "2023-11-02T18:28:39.693363200Z"
    }
   },
   "outputs": [
    {
     "name": "stdout",
     "output_type": "stream",
     "text": [
      "3       False\n",
      "4       False\n",
      "5       False\n",
      "6       False\n",
      "7       False\n",
      "        ...  \n",
      "3271    False\n",
      "3272    False\n",
      "3273    False\n",
      "3274    False\n",
      "3275    False\n",
      "Length: 2015, dtype: bool\n"
     ]
    }
   ],
   "source": [
    "df1 = df.copy()\n",
    "# print(df2.size)\n",
    "print(df1.duplicated(subset=None, keep='first'))"
   ]
  },
  {
   "cell_type": "code",
   "execution_count": 11,
   "id": "d8429fbe",
   "metadata": {},
   "outputs": [
    {
     "name": "stdout",
     "output_type": "stream",
     "text": [
      "20110\n"
     ]
    }
   ],
   "source": [
    "# Removing duplicates\n",
    "df1.drop_duplicates(subset=None, keep='first', inplace=True, ignore_index=False)\n",
    "print(df1.size)"
   ]
  },
  {
   "cell_type": "code",
   "execution_count": 5,
   "id": "f39ff057",
   "metadata": {
    "ExecuteTime": {
     "end_time": "2023-11-02T18:28:53.333383900Z",
     "start_time": "2023-11-02T18:28:53.315378100Z"
    }
   },
   "outputs": [
    {
     "name": "stdout",
     "output_type": "stream",
     "text": [
      "19650\n"
     ]
    }
   ],
   "source": [
    "# Removing anomalies\n",
    "df2 = df1.copy()\n",
    "df2.drop(df2[df2.ph < 4].index, inplace=True)\n",
    "print(df2.size)"
   ]
  },
  {
   "cell_type": "code",
   "execution_count": null,
   "id": "140751a0",
   "metadata": {},
   "outputs": [],
   "source": []
  }
 ],
 "metadata": {
  "kernelspec": {
   "display_name": "Python 3 (ipykernel)",
   "language": "python",
   "name": "python3"
  },
  "language_info": {
   "codemirror_mode": {
    "name": "ipython",
    "version": 3
   },
   "file_extension": ".py",
   "mimetype": "text/x-python",
   "name": "python",
   "nbconvert_exporter": "python",
   "pygments_lexer": "ipython3",
   "version": "3.9.7"
  }
 },
 "nbformat": 4,
 "nbformat_minor": 5
}
