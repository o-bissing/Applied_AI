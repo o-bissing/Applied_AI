{
  "cells": [
    {
      "cell_type": "markdown",
      "metadata": {
        "id": "view-in-github",
        "colab_type": "text"
      },
      "source": [
        "<a href=\"https://colab.research.google.com/github/o-bissing/Applied_AI/blob/main/Simple_VGG16_with_counting_function.ipynb\" target=\"_parent\"><img src=\"https://colab.research.google.com/assets/colab-badge.svg\" alt=\"Open In Colab\"/></a>"
      ]
    },
    {
      "cell_type": "code",
      "execution_count": 1,
      "id": "8b866102",
      "metadata": {
        "colab": {
          "base_uri": "https://localhost:8080/"
        },
        "id": "8b866102",
        "outputId": "c87b3bd1-97e5-450a-aa2a-2a7020776100"
      },
      "outputs": [
        {
          "output_type": "stream",
          "name": "stdout",
          "text": [
            "Downloading data from https://storage.googleapis.com/tensorflow/keras-applications/vgg16/vgg16_weights_tf_dim_ordering_tf_kernels.h5\n",
            "553467096/553467096 [==============================] - 19s 0us/step\n",
            "1/1 [==============================] - 1s 893ms/step\n",
            "Downloading data from https://storage.googleapis.com/download.tensorflow.org/data/imagenet_class_index.json\n",
            "35363/35363 [==============================] - 0s 0us/step\n",
            "amphibian: 0.5440264940261841\n",
            "tank: 0.44477078318595886\n",
            "garbage_truck: 0.004652239847928286\n"
          ]
        }
      ],
      "source": [
        "import tensorflow as tf\n",
        "from tensorflow.keras.applications import VGG16\n",
        "from tensorflow.keras.preprocessing import image\n",
        "from tensorflow.keras.applications.vgg16 import preprocess_input, decode_predictions\n",
        "import numpy as np\n",
        "\n",
        "\n",
        "# Load and preprocess the input image\n",
        "# img_path = 'cat.jpg'\n",
        "img_path = '1.jpg'\n",
        "img = image.load_img(img_path, target_size=(224, 224))\n",
        "x = image.img_to_array(img)\n",
        "x = np.expand_dims(x, axis=0)\n",
        "x = preprocess_input(x)\n",
        "\n",
        "# Load the VGG16 model\n",
        "model = VGG16(weights='imagenet')\n",
        "\n",
        "\n",
        "\n",
        "# Make predictions\n",
        "preds = model.predict(x)\n",
        "decoded_preds = decode_predictions(preds, top=3)[0]\n",
        "\n",
        "# Print the top predictions\n",
        "for _, label, prob in decoded_preds:\n",
        "    print(f\"{label}: {prob}\")\n",
        ""
      ]
    },
    {
      "cell_type": "code",
      "execution_count": 11,
      "id": "14e03d19",
      "metadata": {
        "colab": {
          "base_uri": "https://localhost:8080/"
        },
        "id": "14e03d19",
        "outputId": "3805c0da-bb6b-4896-e412-a3d53466dcd6"
      },
      "outputs": [
        {
          "output_type": "stream",
          "name": "stdout",
          "text": [
            "1/1 [==============================] - 1s 973ms/step\n",
            "tank: 0.44477078318595886\n",
            "1/1 [==============================] - 1s 1s/step\n",
            "tank: 0.9740927219390869\n",
            "1/1 [==============================] - 1s 917ms/step\n",
            "tank: 0.9726697206497192\n",
            "1/1 [==============================] - 1s 637ms/step\n",
            "tank: 0.9520666599273682\n",
            "1/1 [==============================] - 1s 600ms/step\n",
            "tank: 0.9706019759178162\n",
            "1/1 [==============================] - 1s 592ms/step\n",
            "tank: 0.8970086574554443\n",
            "1/1 [==============================] - 1s 578ms/step\n",
            "1/1 [==============================] - 1s 588ms/step\n",
            "tank: 0.912578821182251\n",
            "1/1 [==============================] - 1s 585ms/step\n",
            "tank: 0.9495791792869568\n",
            "1/1 [==============================] - 1s 805ms/step\n",
            "tank: 0.7087750434875488\n",
            "[0.44477078, 0.9740927, 0.9726697, 0.95206666, 0.970602, 0.89700866, 0, 0.9125788, 0.9495792, 0.70877504]\n",
            "Average accuracy for the label 'tank': 0.778214356303215\n"
          ]
        }
      ],
      "source": [
        "num_img = 10\n",
        "pred_array = [0] * num_img\n",
        "avg_acc = 0\n",
        "label_img = 'tank'\n",
        "\n",
        "for i in range(num_img):\n",
        "  img_path = str(i+1) + '.jpg'\n",
        "  img = image.load_img(img_path, target_size=(224, 224))\n",
        "  x = image.img_to_array(img)\n",
        "  x = np.expand_dims(x, axis=0)\n",
        "  x = preprocess_input(x)\n",
        "\n",
        "  # Make predictions\n",
        "  preds = model.predict(x)\n",
        "  decoded_preds = decode_predictions(preds)[0]\n",
        "\n",
        "  # Collect the predictions\n",
        "  for _, label, prob in decoded_preds:\n",
        "    if (label == label_img):\n",
        "      pred_array[i] = prob\n",
        "      print(f\"{label}: {prob}\")\n",
        "\n",
        "for i in range(num_img):\n",
        "  avg_acc = (avg_acc + pred_array[i])\n",
        "avg_acc =  avg_acc / num_img\n",
        "\n",
        "print(pred_array)\n",
        "print(f\"Average accuracy for the label '{label_img}': {avg_acc}\")"
      ]
    }
  ],
  "metadata": {
    "kernelspec": {
      "display_name": "Python 3 (ipykernel)",
      "language": "python",
      "name": "python3"
    },
    "language_info": {
      "codemirror_mode": {
        "name": "ipython",
        "version": 3
      },
      "file_extension": ".py",
      "mimetype": "text/x-python",
      "name": "python",
      "nbconvert_exporter": "python",
      "pygments_lexer": "ipython3",
      "version": "3.9.7"
    },
    "colab": {
      "provenance": [],
      "include_colab_link": true
    }
  },
  "nbformat": 4,
  "nbformat_minor": 5
}